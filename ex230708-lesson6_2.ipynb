{
 "cells": [
  {
   "cell_type": "code",
   "execution_count": null,
   "metadata": {},
   "outputs": [],
   "source": [
    "import random\n",
    "\n",
    "min = 1\n",
    "max = 100\n",
    "count = 0\n",
    "target = random.randint(min, max)\n",
    "Gameover = \"y\"\n",
    "print(\"=============猜數字遊戲=============\\n\\n\")\n",
    "\n",
    "while True:\n",
    "    keyin = int(input(f\"猜數字範圍{min}~{max}:\"))\n",
    "    count += 1\n",
    "    if(keyin == target):\n",
    "        print(f\"賓果！恭喜猜對了，答案是：{target}\")\n",
    "        print(f\"您共猜了{count}次\")\n",
    "        Gameover = str(input(\"遊戲結束，是否再玩一次？(y/n)\"))\n",
    "        if(Gameover == \"y\"):\n",
    "            min = 1\n",
    "            max = 100\n",
    "            count = 0\n",
    "            target = random.randint(min, max)\n",
    "            continue\n",
    "        else:\n",
    "            break\n",
    "    elif keyin > target:\n",
    "        print(f\"再小一點\")\n",
    "        max = keyin - 1\n",
    "    elif keyin < target:\n",
    "        print(f\"再大一點\")\n",
    "        min = keyin + 1\n",
    "    print(f\"您已經猜了{count}次\")"
   ]
  },
  {
   "cell_type": "code",
   "execution_count": 27,
   "metadata": {},
   "outputs": [
    {
     "name": "stdout",
     "output_type": "stream",
     "text": [
      "=============猜數字遊戲=============\n",
      "\n",
      "\n",
      "再小一點\n",
      "您已經猜了1次\n",
      "再大一點\n",
      "您已經猜了2次\n",
      "再大一點\n",
      "您已經猜了3次\n",
      "再大一點\n",
      "您已經猜了4次\n",
      "再小一點\n",
      "您已經猜了5次\n",
      "再大一點\n",
      "您已經猜了6次\n",
      "賓果！恭喜猜對了，答案是：59\n",
      "您共猜了7次\n",
      "=============猜數字遊戲=============\n",
      "\n",
      "\n"
     ]
    },
    {
     "ename": "ValueError",
     "evalue": "invalid literal for int() with base 10: ''",
     "output_type": "error",
     "traceback": [
      "\u001b[0;31m---------------------------------------------------------------------------\u001b[0m",
      "\u001b[0;31mValueError\u001b[0m                                Traceback (most recent call last)",
      "Cell \u001b[0;32mIn[27], line 25\u001b[0m\n\u001b[1;32m     23\u001b[0m         \u001b[39mprint\u001b[39m(\u001b[39mf\u001b[39m\u001b[39m\"\u001b[39m\u001b[39m您已經猜了\u001b[39m\u001b[39m{\u001b[39;00mcount\u001b[39m}\u001b[39;00m\u001b[39m次\u001b[39m\u001b[39m\"\u001b[39m)\n\u001b[1;32m     24\u001b[0m \u001b[39mwhile\u001b[39;00m(\u001b[39mTrue\u001b[39;00m):\n\u001b[0;32m---> 25\u001b[0m     playGame()\n\u001b[1;32m     26\u001b[0m     play_again \u001b[39m=\u001b[39m \u001b[39minput\u001b[39m(\u001b[39m\"\u001b[39m\u001b[39m還要玩嗎？(y/n)\u001b[39m\u001b[39m\"\u001b[39m)\n\u001b[1;32m     27\u001b[0m     \u001b[39mif\u001b[39;00m \u001b[39mnot\u001b[39;00m (play_again \u001b[39m==\u001b[39m\u001b[39m\"\u001b[39m\u001b[39my\u001b[39m\u001b[39m\"\u001b[39m):\n",
      "Cell \u001b[0;32mIn[27], line 11\u001b[0m, in \u001b[0;36mplayGame\u001b[0;34m()\u001b[0m\n\u001b[1;32m      8\u001b[0m \u001b[39mprint\u001b[39m(\u001b[39m\"\u001b[39m\u001b[39m=============猜數字遊戲=============\u001b[39m\u001b[39m\\n\u001b[39;00m\u001b[39m\\n\u001b[39;00m\u001b[39m\"\u001b[39m)\n\u001b[1;32m     10\u001b[0m \u001b[39mwhile\u001b[39;00m \u001b[39mTrue\u001b[39;00m:\n\u001b[0;32m---> 11\u001b[0m     keyin \u001b[39m=\u001b[39m \u001b[39mint\u001b[39;49m(\u001b[39minput\u001b[39;49m(\u001b[39mf\u001b[39;49m\u001b[39m\"\u001b[39;49m\u001b[39m猜數字範圍\u001b[39;49m\u001b[39m{\u001b[39;49;00m\u001b[39mmin\u001b[39;49m\u001b[39m}\u001b[39;49;00m\u001b[39m~\u001b[39;49m\u001b[39m{\u001b[39;49;00m\u001b[39mmax\u001b[39;49m\u001b[39m}\u001b[39;49;00m\u001b[39m:\u001b[39;49m\u001b[39m\"\u001b[39;49m))\n\u001b[1;32m     12\u001b[0m     count \u001b[39m+\u001b[39m\u001b[39m=\u001b[39m \u001b[39m1\u001b[39m\n\u001b[1;32m     13\u001b[0m     \u001b[39mif\u001b[39;00m(keyin \u001b[39m==\u001b[39m target):\n",
      "\u001b[0;31mValueError\u001b[0m: invalid literal for int() with base 10: ''"
     ]
    }
   ],
   "source": [
    "def playGame():\n",
    "    import random\n",
    "\n",
    "    min = 1\n",
    "    max = 100\n",
    "    count = 0\n",
    "    target = random.randint(min, max)\n",
    "    print(\"=============猜數字遊戲=============\\n\\n\")\n",
    "\n",
    "    while True:\n",
    "        keyin = int(input(f\"猜數字範圍{min}~{max}:\"))\n",
    "        count += 1\n",
    "        if(keyin == target):\n",
    "            print(f\"賓果！恭喜猜對了，答案是：{target}\")\n",
    "            print(f\"您共猜了{count}次\")\n",
    "            break\n",
    "        elif keyin > target:\n",
    "            print(f\"再小一點\")\n",
    "            max = keyin - 1\n",
    "        elif keyin < target:\n",
    "            min = keyin + 1\n",
    "            print(f\"再大一點\")\n",
    "        print(f\"您已經猜了{count}次\")\n",
    "while(True):\n",
    "    playGame()\n",
    "    play_again = input(\"還要玩嗎？(y/n)\")\n",
    "    if not (play_again ==\"y\"):\n",
    "        break\n",
    "print(\"遊戲結束\")"
   ]
  }
 ],
 "metadata": {
  "kernelspec": {
   "display_name": "Python 3",
   "language": "python",
   "name": "python3"
  },
  "language_info": {
   "codemirror_mode": {
    "name": "ipython",
    "version": 3
   },
   "file_extension": ".py",
   "mimetype": "text/x-python",
   "name": "python",
   "nbconvert_exporter": "python",
   "pygments_lexer": "ipython3",
   "version": "3.10.4"
  },
  "orig_nbformat": 4
 },
 "nbformat": 4,
 "nbformat_minor": 2
}
