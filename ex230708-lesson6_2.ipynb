{
 "cells": [
  {
   "cell_type": "code",
   "execution_count": null,
   "metadata": {},
   "outputs": [],
   "source": [
    "import random\n",
    "\n",
    "min = 1\n",
    "max = 100\n",
    "count = 0\n",
    "target = random.randint(min, max)\n",
    "Gameover = \"y\"\n",
    "print(\"=============猜數字遊戲=============\\n\\n\")\n",
    "\n",
    "while True:\n",
    "    keyin = int(input(f\"猜數字範圍{min}~{max}:\"))\n",
    "    count += 1\n",
    "    if(keyin == target):\n",
    "        print(f\"賓果！恭喜猜對了，答案是：{target}\")\n",
    "        print(f\"您共猜了{count}次\")\n",
    "        Gameover = str(input(\"遊戲結束，是否再玩一次？(y/n)\"))\n",
    "        if(Gameover == \"y\"):\n",
    "            min = 1\n",
    "            max = 100\n",
    "            count = 0\n",
    "            target = random.randint(min, max)\n",
    "            continue\n",
    "        else:\n",
    "            break\n",
    "    elif keyin > target:\n",
    "        print(f\"再小一點\")\n",
    "        max = keyin - 1\n",
    "    elif keyin < target:\n",
    "        print(f\"再大一點\")\n",
    "        min = keyin + 1\n",
    "    print(f\"您已經猜了{count}次\")"
   ]
  }
 ],
 "metadata": {
  "kernelspec": {
   "display_name": "Python 3",
   "language": "python",
   "name": "python3"
  },
  "language_info": {
   "codemirror_mode": {
    "name": "ipython",
    "version": 3
   },
   "file_extension": ".py",
   "mimetype": "text/x-python",
   "name": "python",
   "nbconvert_exporter": "python",
   "pygments_lexer": "ipython3",
   "version": "3.10.4"
  },
  "orig_nbformat": 4
 },
 "nbformat": 4,
 "nbformat_minor": 2
}
