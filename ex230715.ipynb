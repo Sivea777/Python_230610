{
 "cells": [
  {
   "cell_type": "code",
   "execution_count": 14,
   "metadata": {},
   "outputs": [],
   "source": [
    "def get_tuple():\n",
    "    return(404,\"error\")"
   ]
  },
  {
   "cell_type": "code",
   "execution_count": 15,
   "metadata": {},
   "outputs": [
    {
     "name": "stdout",
     "output_type": "stream",
     "text": [
      "404\n",
      "error\n"
     ]
    }
   ],
   "source": [
    "#tuple拆解法\n",
    "\n",
    "(code,message) = get_tuple()\n",
    "print(code)\n",
    "print(message)"
   ]
  },
  {
   "cell_type": "code",
   "execution_count": 16,
   "metadata": {},
   "outputs": [
    {
     "data": {
      "text/plain": [
       "[1, 2, 3, 4, 5, 6, 7, 8, 9]"
      ]
     },
     "execution_count": 16,
     "metadata": {},
     "output_type": "execute_result"
    }
   ],
   "source": [
    "list(range(1,10))"
   ]
  },
  {
   "cell_type": "code",
   "execution_count": 17,
   "metadata": {},
   "outputs": [
    {
     "data": {
      "text/plain": [
       "['a', 'b', 'c', 1, 2, 3]"
      ]
     },
     "execution_count": 17,
     "metadata": {},
     "output_type": "execute_result"
    }
   ],
   "source": [
    "list(('a','b','c',1,2,3))"
   ]
  },
  {
   "cell_type": "code",
   "execution_count": 18,
   "metadata": {},
   "outputs": [
    {
     "data": {
      "text/plain": [
       "[78, 98, 56, 74, 79]"
      ]
     },
     "execution_count": 18,
     "metadata": {},
     "output_type": "execute_result"
    }
   ],
   "source": [
    "#符號建立\n",
    "\n",
    "stu1 = [78,98,56,74,79]\n",
    "stu1"
   ]
  },
  {
   "cell_type": "code",
   "execution_count": 19,
   "metadata": {},
   "outputs": [
    {
     "name": "stdout",
     "output_type": "stream",
     "text": [
      "78\n",
      "98\n",
      "56\n",
      "74\n",
      "79\n"
     ]
    }
   ],
   "source": [
    "for score in stu1:\n",
    "    print(score)"
   ]
  },
  {
   "cell_type": "code",
   "execution_count": 25,
   "metadata": {},
   "outputs": [],
   "source": [
    "enmpy_list = []\n",
    "weekdays = ['星期一','星期二','星期三','星期四','星期五','星期六','星期日']\n",
    "big_birds = ['emu','ostrich','cassowary']\n",
    "first_names = ['Graham','John','Terry','Terry','Michael']"
   ]
  },
  {
   "cell_type": "code",
   "execution_count": 26,
   "metadata": {},
   "outputs": [
    {
     "data": {
      "text/plain": [
       "['Graham', 'John', 'Terry', 'Terry', 'Michael']"
      ]
     },
     "execution_count": 26,
     "metadata": {},
     "output_type": "execute_result"
    }
   ],
   "source": [
    "first_names"
   ]
  },
  {
   "cell_type": "code",
   "execution_count": 31,
   "metadata": {},
   "outputs": [
    {
     "data": {
      "text/plain": [
       "'Michael'"
      ]
     },
     "execution_count": 31,
     "metadata": {},
     "output_type": "execute_result"
    }
   ],
   "source": [
    "#list(0,1,2,3,4)，如果超出數列則會顯示IndexError\n",
    "first_names[4]"
   ]
  },
  {
   "cell_type": "code",
   "execution_count": 28,
   "metadata": {},
   "outputs": [
    {
     "data": {
      "text/plain": [
       "list"
      ]
     },
     "execution_count": 28,
     "metadata": {},
     "output_type": "execute_result"
    }
   ],
   "source": [
    "#不確定資料格式時，記得先用type()確認\n",
    "type(first_names)"
   ]
  },
  {
   "cell_type": "code",
   "execution_count": 33,
   "metadata": {},
   "outputs": [
    {
     "data": {
      "text/plain": [
       "['Graham', 'John', 'Terry', 'Terry', 'Michael', 'robert', 'Robert']"
      ]
     },
     "execution_count": 33,
     "metadata": {},
     "output_type": "execute_result"
    }
   ],
   "source": [
    "first_names.append('Robert')\n",
    "first_names"
   ]
  },
  {
   "cell_type": "code",
   "execution_count": 37,
   "metadata": {},
   "outputs": [
    {
     "data": {
      "text/plain": [
       "['Hsu', 'Graham', 'John', 'Terry', 'Terry', 'Michael', 'robert', 'Robert']"
      ]
     },
     "execution_count": 37,
     "metadata": {},
     "output_type": "execute_result"
    }
   ],
   "source": [
    "first_names.insert(0,'Hsu')\n",
    "first_names"
   ]
  },
  {
   "cell_type": "code",
   "execution_count": 39,
   "metadata": {},
   "outputs": [
    {
     "name": "stdout",
     "output_type": "stream",
     "text": [
      "H\n",
      "e\n",
      "l\n",
      "l\n",
      "o\n",
      "W\n",
      "o\n",
      "r\n",
      "l\n",
      "d\n"
     ]
    }
   ],
   "source": [
    "for word in \"HelloWorld\":\n",
    "    print(word)"
   ]
  },
  {
   "cell_type": "code",
   "execution_count": 40,
   "metadata": {},
   "outputs": [
    {
     "data": {
      "text/plain": [
       "['H', 'e', 'l', 'l', 'o', 'W', 'o', 'r', 'l', 'd']"
      ]
     },
     "execution_count": 40,
     "metadata": {},
     "output_type": "execute_result"
    }
   ],
   "source": [
    "word = list(\"HelloWorld\")\n",
    "word"
   ]
  },
  {
   "cell_type": "code",
   "execution_count": 42,
   "metadata": {},
   "outputs": [
    {
     "data": {
      "text/plain": [
       "['H', 'e', 'l', 'l', 'o']"
      ]
     },
     "execution_count": 42,
     "metadata": {},
     "output_type": "execute_result"
    }
   ],
   "source": [
    "word[0:5]"
   ]
  },
  {
   "cell_type": "code",
   "execution_count": 44,
   "metadata": {},
   "outputs": [
    {
     "data": {
      "text/plain": [
       "['W', 'o', 'r', 'l']"
      ]
     },
     "execution_count": 44,
     "metadata": {},
     "output_type": "execute_result"
    }
   ],
   "source": [
    "word[-5:-1]"
   ]
  },
  {
   "cell_type": "code",
   "execution_count": 45,
   "metadata": {},
   "outputs": [
    {
     "data": {
      "text/plain": [
       "['W', 'o', 'r', 'l', 'd']"
      ]
     },
     "execution_count": 45,
     "metadata": {},
     "output_type": "execute_result"
    }
   ],
   "source": [
    "#從-5一路輸出到結尾\n",
    "word[-5:]"
   ]
  },
  {
   "cell_type": "code",
   "execution_count": 46,
   "metadata": {},
   "outputs": [
    {
     "data": {
      "text/plain": [
       "['H', 'e', 'l', 'l', 'o', 'W', 'o', 'r', 'l']"
      ]
     },
     "execution_count": 46,
     "metadata": {},
     "output_type": "execute_result"
    }
   ],
   "source": [
    "#從頭輸出到-1\n",
    "word[:-1]"
   ]
  },
  {
   "cell_type": "code",
   "execution_count": 47,
   "metadata": {},
   "outputs": [
    {
     "data": {
      "text/plain": [
       "[['筆記電腦', '商用筆電'], ['APPLE', 'ASUS', 'HTC'], [3, '冰箱', 2, '洗衣機']]"
      ]
     },
     "execution_count": 47,
     "metadata": {},
     "output_type": "execute_result"
    }
   ],
   "source": [
    "#2維Lise\n",
    "nb = ['筆記電腦','商用筆電']\n",
    "mobile = ['APPLE','ASUS','HTC']\n",
    "home = [3,'冰箱',2,'洗衣機']\n",
    "all3c =[nb,mobile,home]\n",
    "all3c"
   ]
  },
  {
   "cell_type": "code",
   "execution_count": 49,
   "metadata": {},
   "outputs": [
    {
     "name": "stdout",
     "output_type": "stream",
     "text": [
      "['筆記電腦', '商用筆電']\n",
      "['APPLE', 'ASUS', 'HTC']\n",
      "[3, '冰箱', 2, '洗衣機']\n"
     ]
    }
   ],
   "source": [
    "print(all3c[0])\n",
    "print(all3c[1])\n",
    "print(all3c[2])"
   ]
  },
  {
   "cell_type": "code",
   "execution_count": 50,
   "metadata": {},
   "outputs": [
    {
     "name": "stdout",
     "output_type": "stream",
     "text": [
      "筆記電腦\n"
     ]
    }
   ],
   "source": [
    "print(all3c[0][0])"
   ]
  },
  {
   "cell_type": "code",
   "execution_count": 4,
   "metadata": {},
   "outputs": [
    {
     "data": {
      "text/plain": [
       "94"
      ]
     },
     "execution_count": 4,
     "metadata": {},
     "output_type": "execute_result"
    }
   ],
   "source": [
    "import random\n",
    "random.randint(50,100)"
   ]
  },
  {
   "cell_type": "code",
   "execution_count": 5,
   "metadata": {},
   "outputs": [
    {
     "data": {
      "text/plain": [
       "[53, 77, 51, 98, 57]"
      ]
     },
     "execution_count": 5,
     "metadata": {},
     "output_type": "execute_result"
    }
   ],
   "source": [
    "stu1 = list()\n",
    "for _ in range(5):\n",
    "    stu1.append(random.randint(50,100))\n",
    "stu1"
   ]
  },
  {
   "cell_type": "code",
   "execution_count": 6,
   "metadata": {},
   "outputs": [
    {
     "data": {
      "text/plain": [
       "[[70, 52, 92, 98, 99],\n",
       " [97, 79, 58, 85, 85],\n",
       " [89, 61, 72, 69, 71],\n",
       " [94, 62, 51, 67, 54],\n",
       " [97, 84, 92, 90, 98],\n",
       " [85, 85, 69, 78, 63],\n",
       " [52, 95, 92, 57, 59],\n",
       " [53, 81, 54, 88, 93],\n",
       " [75, 77, 72, 77, 78],\n",
       " [88, 62, 82, 81, 87],\n",
       " [58, 73, 92, 89, 85],\n",
       " [64, 56, 87, 68, 61],\n",
       " [95, 59, 89, 74, 59],\n",
       " [67, 74, 82, 86, 86],\n",
       " [53, 94, 56, 99, 65],\n",
       " [88, 63, 79, 67, 98],\n",
       " [94, 95, 91, 72, 91],\n",
       " [74, 83, 95, 69, 61],\n",
       " [100, 81, 51, 99, 69],\n",
       " [93, 91, 77, 72, 53],\n",
       " [69, 100, 83, 81, 57],\n",
       " [95, 78, 58, 54, 94],\n",
       " [83, 98, 97, 56, 59],\n",
       " [75, 57, 98, 70, 85],\n",
       " [72, 84, 69, 86, 75],\n",
       " [79, 54, 55, 77, 54],\n",
       " [84, 57, 55, 88, 95],\n",
       " [74, 66, 56, 53, 71],\n",
       " [98, 83, 54, 64, 77],\n",
       " [78, 88, 50, 65, 72],\n",
       " [82, 55, 94, 53, 76],\n",
       " [100, 69, 69, 54, 71],\n",
       " [76, 68, 84, 97, 73],\n",
       " [95, 62, 74, 73, 75],\n",
       " [59, 88, 85, 56, 78],\n",
       " [61, 74, 82, 100, 97],\n",
       " [82, 99, 86, 77, 76],\n",
       " [82, 87, 75, 94, 55],\n",
       " [80, 65, 54, 84, 59],\n",
       " [89, 74, 70, 92, 98],\n",
       " [86, 81, 85, 94, 73],\n",
       " [51, 68, 54, 75, 52],\n",
       " [57, 72, 86, 98, 55],\n",
       " [81, 83, 63, 94, 89],\n",
       " [73, 70, 96, 82, 63],\n",
       " [68, 86, 78, 60, 50],\n",
       " [82, 80, 98, 58, 81],\n",
       " [95, 81, 86, 73, 79],\n",
       " [59, 62, 51, 86, 95],\n",
       " [94, 94, 58, 57, 64]]"
      ]
     },
     "execution_count": 6,
     "metadata": {},
     "output_type": "execute_result"
    }
   ],
   "source": [
    "students = []\n",
    "for _ in range(50):\n",
    "    stu = list()\n",
    "    for _ in range(5):\n",
    "        stu.append(random.randint(50,100))\n",
    "    students.append(stu)\n",
    "students"
   ]
  },
  {
   "cell_type": "code",
   "execution_count": 5,
   "metadata": {},
   "outputs": [],
   "source": [
    "text = '''python與中文\n",
    "我們來試試看中文的儲存能力\n",
    "「許」這個字有編碼衝突風險\n",
    "「犇」這個字必須有utf8編碼才有。'''\n",
    "\n",
    "file = open('hello.txt',mode='w')\n",
    "print(text,file=file)\n",
    "file.close()"
   ]
  },
  {
   "cell_type": "code",
   "execution_count": 6,
   "metadata": {},
   "outputs": [],
   "source": [
    "#file.write寫入單行文字\n",
    "#file.writelines可寫入多行文字\n",
    "\n",
    "file = open('hello.txt',mode='w',encoding='utf-8')\n",
    "file.write('這次第一行\\n')\n",
    "file.write('這次第二行')\n",
    "file.writelines('''\n",
    "這是第三行\n",
    "這是第四行\n",
    "這是第五行\n",
    "''')\n",
    "file.close()"
   ]
  },
  {
   "cell_type": "code",
   "execution_count": 7,
   "metadata": {},
   "outputs": [
    {
     "name": "stdout",
     "output_type": "stream",
     "text": [
      "這次第一行\n",
      "這次第二行\n",
      "這是第三行\n",
      "這是第四行\n",
      "這是第五行\n",
      "\n"
     ]
    }
   ],
   "source": [
    "file = open('hello.txt',mode='r',encoding='utf-8')\n",
    "all_text = file.read()\n",
    "print(all_text)"
   ]
  },
  {
   "cell_type": "code",
   "execution_count": 10,
   "metadata": {},
   "outputs": [],
   "source": [
    "import csv\n",
    "csv_write_file = open('students.csv',newline='',mode='w',encoding='utf-8')\n",
    "csv_writer = csv.writer(csv_write_file)\n",
    "for row in students:\n",
    "    csv_writer.writerows(students)\n",
    "csv_write_file.close()"
   ]
  },
  {
   "cell_type": "code",
   "execution_count": null,
   "metadata": {},
   "outputs": [],
   "source": [
    "import csv\n",
    "csv_write_file = open('students.csv',newline='',mode='w',encoding='utf-8')\n",
    "csv_writer = csv.writer(csv_write_file)\n",
    "csv_writer.writerow(['國文','英文','數學','地理','歷史'])\n",
    "csv_writer.writerows(students)\n",
    "csv_write_file.close()"
   ]
  }
 ],
 "metadata": {
  "kernelspec": {
   "display_name": "Python 3",
   "language": "python",
   "name": "python3"
  },
  "language_info": {
   "codemirror_mode": {
    "name": "ipython",
    "version": 3
   },
   "file_extension": ".py",
   "mimetype": "text/x-python",
   "name": "python",
   "nbconvert_exporter": "python",
   "pygments_lexer": "ipython3",
   "version": "3.10.4"
  },
  "orig_nbformat": 4
 },
 "nbformat": 4,
 "nbformat_minor": 2
}
